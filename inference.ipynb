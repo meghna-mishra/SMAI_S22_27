{
  "nbformat": 4,
  "nbformat_minor": 0,
  "metadata": {
    "colab": {
      "name": "inference.ipynb",
      "provenance": [],
      "collapsed_sections": []
    },
    "kernelspec": {
      "name": "python3",
      "display_name": "Python 3"
    },
    "language_info": {
      "name": "python"
    }
  },
  "cells": [
    {
      "cell_type": "code",
      "execution_count": null,
      "metadata": {
        "id": "F3c7dr33C0Fe"
      },
      "outputs": [],
      "source": [
        "# Importing important libraries\n",
        "import random\n",
        "import numpy as np\n",
        "import torch\n",
        "import torchvision as tv\n",
        "import PIL\n",
        "import rdkit"
      ]
    },
    {
      "cell_type": "code",
      "source": [
        "# Auxiliary Functions\n",
        "\n",
        "def initialize (model, checkpoint) :\n",
        "  if checkpoint:\n",
        "    model = model.load_from_checkpoint(checkpoint)\n",
        "\n",
        "  model.eval()\n",
        "  model.to(\"cpu\")\n",
        "  return model\n",
        "\n",
        "\n",
        "def fit (image):\n",
        "  factor = 224.0 / max(image.size)\n",
        "  size = ([int(s * factor) for s in image.size])\n",
        "  image = image.resize(size, PIL.Image.BICUBIC)\n",
        "\n",
        "  newImage = PIL.Image.new(\"L\", (224, 224), \"white\")\n",
        "  newImage.paste(image, ((224 - size[0]) // 2, (224 - size[1]) // 2))\n",
        "\n",
        "  return PIL.ImageOps.expand(newImage, int(np.random.randint(5, 25, size=1)), \"white\")\n",
        "\n",
        "\n",
        "def transform (cls, image):\n",
        "  image = cls.fit_image(image)\n",
        "\n",
        "  shearVal = np.random.uniform(0.1, 7)\n",
        "\n",
        "  PILImage = tv.transforms.RandomRotation(degrees = (-15, 15), expand = True, center = None, fill = 255, resample = 3)(image)\n",
        "  PILImage = tv.transforms.ColorJitter(brightness=[0.75, 2.0], contrast=0, saturation=0, hue=0)(PILImage)\n",
        "  shear = random.choice([[0, 0, -1 * shearVal, shearVal], [-1 * shearVal, shearVal, 0, 0], [-1* shearVal, shearVal, -1 * shearVal, shearVal]])\n",
        "  PILImage = tv.transforms.RandomAffine(degrees = 0, translate = None, scale = None, shear = shear, resample = 3, fillcolor = 255)(PILImage)\n",
        "  PILImage = tv.ImageEnhance.Contrast(tv.ImageOps.autocontrast(PILImage)).enhance(2.0)\n",
        "  PILImage = tv.transforms.Resize(size = (224, 224), interpolation = 3)(PILImage)\n",
        "  PILImage = tv.ImageOps.autocontrast(PILImage)\n",
        "  PILImage = tv.transforms.ToTensor()(PILImage)\n",
        "  return PILImage\n",
        "\n",
        "def read (path):\n",
        "  fileType = path.split('.')[-1]\n",
        "  if fileType == 'jpg' or fileType == 'jpeg' or fileType == 'png':\n",
        "    image = PIL.Image.open(path, 'r')\n",
        "\n",
        "    if image.mode == 'RGBA':\n",
        "      background = PIL.Image.new('RGB', image.size, (255, 255, 255))\n",
        "      background.paste(image, (0, 0), image)\n",
        "      image = background.convert('L')\n",
        "    else:\n",
        "      image = image.convert('L')\n",
        "\n",
        "    images = torch.cat([torch.unsqueeze(transform(image), 0) for i in range(50)], dim=0)\n",
        "    return images.to(\"cpu\")\n",
        "\n",
        "  else:\n",
        "    return \"Incorrect file type\""
      ],
      "metadata": {
        "id": "mblElCMZI9bh"
      },
      "execution_count": null,
      "outputs": []
    },
    {
      "cell_type": "code",
      "source": [
        "def predict (path, model, server):\n",
        "  images = read(path)\n",
        "\n",
        "  with torch.no_grad():\n",
        "    cddd = model(images).detach().cpu().numpy()\n",
        "    cddd = np.median(cddd, axis=0)\n",
        "    smiles = server.cddd_to_smiles(cddd.tolist())\n",
        "    mol = rdkit.Chem.MolFromSmiles(smiles, sanitize=True)\n",
        "    if mol:\n",
        "        isSmiles = rdkit.Chem.MolToSmiles(mol)\n",
        "        isMol = rdkit.Chem.MolFromSmiles(isSmiles)\n",
        "    else:\n",
        "        can_smiles = None\n",
        "        can_mol = None\n",
        "\n",
        "    ret = {\"filepath\": path, \"smiles\": isSmiles, \"mol\": isMol}\n",
        "    return ret"
      ],
      "metadata": {
        "id": "-ijTVjPqQAJt"
      },
      "execution_count": null,
      "outputs": []
    }
  ]
}