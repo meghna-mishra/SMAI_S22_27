{
  "nbformat": 4,
  "nbformat_minor": 0,
  "metadata": {
    "colab": {
      "name": "model.ipynb",
      "provenance": [],
      "collapsed_sections": []
    },
    "kernelspec": {
      "name": "python3",
      "display_name": "Python 3"
    },
    "language_info": {
      "name": "python"
    },
    "accelerator": "GPU"
  },
  "cells": [
    {
      "cell_type": "code",
      "source": [
        "!pip install kora"
      ],
      "metadata": {
        "id": "1ppm4yOE9z6G"
      },
      "execution_count": null,
      "outputs": []
    },
    {
      "cell_type": "code",
      "execution_count": null,
      "metadata": {
        "id": "AxrPm1aC6zjV"
      },
      "outputs": [],
      "source": [
        "import tensorflow as tf\n",
        "import torch\n",
        "from torchvision import transforms\n",
        "import kora.install.rdkit\n",
        "from rdkit import Chem\n",
        "from typing import Optional\n",
        "import random\n",
        "import numpy as np\n",
        "from PIL import Image, ImageOps, ImageEnhance\n",
        "from typing import Union, List, Optional\n",
        "from torch import nn\n",
        "import torch.nn.functional as F"
      ]
    },
    {
      "cell_type": "code",
      "source": [
        "!pip install pytorch_lightning"
      ],
      "metadata": {
        "id": "myTpFDMV_2to"
      },
      "execution_count": null,
      "outputs": []
    },
    {
      "cell_type": "code",
      "source": [
        "import pytorch_lightning as pl"
      ],
      "metadata": {
        "id": "USN3twcZ_yz8"
      },
      "execution_count": null,
      "outputs": []
    },
    {
      "cell_type": "code",
      "source": [
        "LR = 1e-4"
      ],
      "metadata": {
        "id": "bkh8wEWmIeWf"
      },
      "execution_count": null,
      "outputs": []
    },
    {
      "cell_type": "code",
      "source": [
        "configs = {\"unit\" : [128,256,384,384,384,512,512,512],\n",
        "           \"kernel_size\" : [7,5,5,3,3,3,3,3],\n",
        "           \"stride\" : [3,1,1,1,1,1,1,1],\n",
        "           \"padding\" : [4,1,1,1,1,1,1,1]}\n",
        "layer_list = [\"conv2d\", \"conv2d\", \"conv2d\" \"maxpool\", \"conv2d\", \"conv2d\", \"maxpool\", \"conv2d\", \"conv2d\", \"conv2d\", \"maxpool\"]"
      ],
      "metadata": {
        "id": "cx0lB20nCKYX"
      },
      "execution_count": null,
      "outputs": []
    },
    {
      "cell_type": "code",
      "source": [
        "def getCNN(configs, layer_list):\n",
        "    layers = []\n",
        "    in_channels = 1\n",
        "    i = 0\n",
        "    for layer in layer_list:\n",
        "        if layer == \"conv2d\":\n",
        "            layers.append(nn.Conv2d(in_channels, configs[\"unit\"][i], kernel_size = configs[\"kernel_size\"][i], stride = configs[\"stride\"][i], padding = configs[\"padding\"][i]))\n",
        "            layers.append(nn.ReLU(inplace=True))\n",
        "            in_channels = configs[\"unit\"][i]\n",
        "            i += 1\n",
        "        elif layer == \"maxpool\":\n",
        "            layers.append(nn.MaxPool2d(kernel_size=2, stride=2))\n",
        "\n",
        "    model = nn.Sequential(*layers)\n",
        "    return model\n"
      ],
      "metadata": {
        "id": "9dkl7c4q-Mu7"
      },
      "execution_count": null,
      "outputs": []
    },
    {
      "cell_type": "code",
      "source": [
        "def getFCN():\n",
        "  layers = []\n",
        "  layers.append(nn.Linear(512*9*9, 4096))\n",
        "  layers.append(nn.ReLU(True))\n",
        "  layers.append(nn.Dropout(p=0))\n",
        "  layers.append(nn.Linear(4096, 4096))\n",
        "  layers.append(nn.ReLU(True))\n",
        "  layers.append(nn.Dropout(p=0))\n",
        "  layers.append(nn.Linear(4096, 512))\n",
        "  layers.append(nn.Tanh())\n",
        "  model = nn.Sequential(*layers)\n",
        "\n",
        "  return model"
      ],
      "metadata": {
        "id": "clCeWcqrAlaT"
      },
      "execution_count": null,
      "outputs": []
    },
    {
      "cell_type": "code",
      "source": [
        "class Img2MolModel(pl.LightningModule):\n",
        "    def __init__(self):\n",
        "        super().__init__()\n",
        "        self.learning_rate = LR\n",
        "        self.features = getCNN(configs, layer_list)\n",
        "        self.classifier = getFCN()\n",
        "        self._initialize_weights()\n",
        "\n",
        "    def forward(self, x):\n",
        "        x = self.features(x)\n",
        "        x = torch.flatten(x, 1)\n",
        "        x = self.classifier(x)\n",
        "        return x\n",
        "\n",
        "    def _initialize_weights(self):\n",
        "        for m in self.modules():\n",
        "            if isinstance(m, nn.Conv2d):\n",
        "                nn.init.kaiming_normal_(m.weight, mode='fan_out', nonlinearity='relu')\n",
        "                if m.bias is not None:\n",
        "                    nn.init.constant_(m.bias, 0)\n",
        "            elif isinstance(m, nn.BatchNorm2d):\n",
        "                nn.init.constant_(m.weight, 1)\n",
        "                nn.init.constant_(m.bias, 0)\n",
        "            elif isinstance(m, nn.Linear):\n",
        "                nn.init.normal_(m.weight, 0, 0.01)\n",
        "                nn.init.constant_(m.bias, 0)\n",
        "\n",
        "    def training_step(self, batch, batch_idx):\n",
        "        x, y = batch\n",
        "        y_hat = self(x)\n",
        "        loss = F.mse_loss(y_hat, y)\n",
        "        self.log('train_loss', loss, on_epoch=True, prog_bar=True, logger=True)\n",
        "        return loss\n",
        "\n",
        "    def validation_step(self, batch, batch_idx):\n",
        "        x, y = batch\n",
        "        y_hat = self(x)\n",
        "        loss = F.mse_loss(y_hat, y)\n",
        "        self.log('valid_loss', loss, on_epoch=True, prog_bar=True, logger=True)\n",
        "\n",
        "    def test_step(self, batch, batch_idx):\n",
        "        x, y = batch\n",
        "        y_hat = self(x)\n",
        "        loss = F.mse_loss(y_hat, y)\n",
        "        self.log('test_loss', loss)\n",
        "\n",
        "    def configure_optimizers(self):\n",
        "        return torch.optim.AdamW(self.parameters(), lr=self.learning_rate)"
      ],
      "metadata": {
        "id": "6HD05GxvAXIs"
      },
      "execution_count": null,
      "outputs": []
    },
    {
      "cell_type": "code",
      "source": [
        "model = Img2MolModel()"
      ],
      "metadata": {
        "id": "1-Z1t00_IWan"
      },
      "execution_count": null,
      "outputs": []
    }
  ]
}