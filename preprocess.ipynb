{
  "nbformat": 4,
  "nbformat_minor": 0,
  "metadata": {
    "colab": {
      "name": "preprocess.ipynb",
      "provenance": [],
      "collapsed_sections": []
    },
    "kernelspec": {
      "name": "python3",
      "display_name": "Python 3"
    },
    "language_info": {
      "name": "python"
    }
  },
  "cells": [
    {
      "cell_type": "code",
      "source": [
        "%cd drive/MyDrive"
      ],
      "metadata": {
        "colab": {
          "base_uri": "https://localhost:8080/"
        },
        "id": "kmOYNk25xr2e",
        "outputId": "0686e795-5968-4187-812e-49d75eb4ffe2"
      },
      "execution_count": null,
      "outputs": [
        {
          "output_type": "stream",
          "name": "stdout",
          "text": [
            "/content/drive/MyDrive\n"
          ]
        }
      ]
    },
    {
      "cell_type": "code",
      "execution_count": null,
      "metadata": {
        "id": "BlCTJjlcwv8h"
      },
      "outputs": [],
      "source": [
        "import pandas as pd"
      ]
    },
    {
      "cell_type": "code",
      "source": [
        "df = pd.read_csv('chembl.csv', delimiter=';')"
      ],
      "metadata": {
        "colab": {
          "base_uri": "https://localhost:8080/"
        },
        "id": "nVsgaYIOw2PZ",
        "outputId": "7eb48d9e-de85-4acb-a4b2-732f05cfd4ee"
      },
      "execution_count": null,
      "outputs": [
        {
          "output_type": "stream",
          "name": "stderr",
          "text": [
            "/usr/local/lib/python3.7/dist-packages/IPython/core/interactiveshell.py:2882: DtypeWarning: Columns (27) have mixed types.Specify dtype option on import or set low_memory=False.\n",
            "  exec(code_obj, self.user_global_ns, self.user_ns)\n"
          ]
        }
      ]
    },
    {
      "cell_type": "code",
      "source": [
        "df = df[['ChEMBL ID', 'Type', 'Molecular Weight', 'AlogP', 'Structure Type', 'Inorganic Flag', 'Heavy Atoms', 'Molecular Species', 'Smiles']]\n",
        "df = df[df[\"Smiles\"].str.contains(\"@\")==False]"
      ],
      "metadata": {
        "id": "OC5ArKFMx0mY"
      },
      "execution_count": null,
      "outputs": []
    },
    {
      "cell_type": "code",
      "source": [
        "df.size"
      ],
      "metadata": {
        "colab": {
          "base_uri": "https://localhost:8080/"
        },
        "id": "FBrIvLWBzxWq",
        "outputId": "2dffd99e-524f-4bbc-a4bb-4ff3e9812c09"
      },
      "execution_count": null,
      "outputs": [
        {
          "output_type": "execute_result",
          "data": {
            "text/plain": [
              "12934935"
            ]
          },
          "metadata": {},
          "execution_count": 18
        }
      ]
    },
    {
      "cell_type": "code",
      "source": [
        "df = df.dropna()\n",
        "df = df.drop(df.loc[(df['Heavy Atoms']=='None')].index)\n",
        "df = df.loc[df[\"Heavy Atoms\"].astype(int) > 3]\n",
        "df = df.loc[df[\"Inorganic Flag\"].astype(int) == -1]\n",
        "df = df.loc[df[\"Molecular Weight\"].astype(int) >= 12]\n",
        "df = df.loc[df[\"Molecular Weight\"].astype(int) <= 600]"
      ],
      "metadata": {
        "id": "uI2KRgtRym72"
      },
      "execution_count": null,
      "outputs": []
    },
    {
      "cell_type": "code",
      "source": [
        "df = df.loc[df['AlogP'].astype(float) >= -7]\n",
        "df = df.loc[df['AlogP'].astype(float) <= 5]\n",
        "df = df.loc[df['Structure Type'] == 'MOL']"
      ],
      "metadata": {
        "id": "Ch_Qzf_MyogZ"
      },
      "execution_count": null,
      "outputs": []
    },
    {
      "cell_type": "code",
      "source": [
        "df = df[['ChEMBL ID', 'Smiles']]\n",
        "df.to_csv('chembl_cleaned.csv', sep='\\t', encoding='utf-8')"
      ],
      "metadata": {
        "id": "qTCRtS9r5viP"
      },
      "execution_count": null,
      "outputs": []
    },
    {
      "cell_type": "code",
      "source": [
        "df.size"
      ],
      "metadata": {
        "colab": {
          "base_uri": "https://localhost:8080/"
        },
        "id": "O7Z-2Scn6O4H",
        "outputId": "3ff5325a-8b26-47f1-8b1e-cd56c6439b49"
      },
      "execution_count": null,
      "outputs": [
        {
          "output_type": "execute_result",
          "data": {
            "text/plain": [
              "2307638"
            ]
          },
          "metadata": {},
          "execution_count": 27
        }
      ]
    },
    {
      "cell_type": "code",
      "source": [
        ""
      ],
      "metadata": {
        "id": "AzSmT2eZ6Y2u"
      },
      "execution_count": null,
      "outputs": []
    }
  ]
}